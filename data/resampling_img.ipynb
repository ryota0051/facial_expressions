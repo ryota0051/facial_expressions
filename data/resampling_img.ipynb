{
 "cells": [
  {
   "cell_type": "code",
   "execution_count": 59,
   "metadata": {},
   "outputs": [],
   "source": [
    "import os\n",
    "from distutils import dir_util\n",
    "from typing import List, Dict, Union, Tuple\n",
    "import copy\n",
    "\n",
    "import numpy as np\n",
    "import cv2\n",
    "import matplotlib.pyplot as plt"
   ]
  },
  {
   "cell_type": "markdown",
   "metadata": {},
   "source": [
    "## アンダーサンプリング"
   ]
  },
  {
   "cell_type": "code",
   "execution_count": 32,
   "metadata": {},
   "outputs": [
    {
     "name": "stdout",
     "output_type": "stream",
     "text": [
      "[age/age/]ディレクトリを[age/under_sampled_age/]コピー\n",
      "全データを979枚にします。\n",
      "age/under_sampled_age/train/50_60\n",
      "age/under_sampled_age/train/40_50\n",
      "age/under_sampled_age/train/20_30\n",
      "age/under_sampled_age/train/30_40\n"
     ]
    }
   ],
   "source": [
    "age_base_data_path = 'age/age/'\n",
    "age_data_dist_path = 'age/under_sampled_age/'\n",
    "\n",
    "def create_under_sampled_data(base_data_path: str, dist_data_path: str) -> None:\n",
    "    '''データのアンダーサンプリングを行う関数\n",
    "    Parameters\n",
    "    -----------\n",
    "    base_data_path: 訓練データ用ディレクトリ、バリデーションデータ用ディレクトリおよびテストデータ用ディレクトリが存在するディレクトリのパス\n",
    "    dist_data_path: アンダーサンプリング結果保存用パス\n",
    "    '''\n",
    "    # 入力パスが同じ場合は例外を出力\n",
    "    if os.path.abspath(base_data_path) == os.path.abspath(dist_data_path):\n",
    "        raise ValueError('ベースディレクトリのパスと結果保存先のパスは異なるものにしてください。')\n",
    "        \n",
    "    # 入力パスの直下にtrain, test, validationという名前のフォルダが存在しなければ例外を出力\n",
    "    base_child_path_list = os.listdir(base_data_path)\n",
    "    for base_child_path in base_child_path_list:\n",
    "        __check_child_dir_exists(base_data_path, base_child_path)\n",
    "    \n",
    "    # base_data_pathをdist_data_pathにコピー\n",
    "    print(f'[{base_data_path}]ディレクトリを[{dist_data_path}]コピー')\n",
    "    dir_util.copy_tree(base_data_path, dist_data_path)\n",
    "    \n",
    "    # 1. dist_data_path/trainディレクトリ内の全クラスについて画像数を数える\n",
    "    # 2. 一番ファイル数が少ないクラスのデータ数以外のクラスにおける画像を一番ファイル数が少ないクラスのデータ数と同じ数になるようにランダムに削除する。\n",
    "    train_data_dir = os.path.join(dist_data_path, 'train')\n",
    "    # 各クラスの画像ディレクトリパスリスト\n",
    "    train_data_dir4undersampling_path_list = []\n",
    "    # 各クラスの画像枚数リスト\n",
    "    train_data_num_list = []\n",
    "    for data_dir_name in os.listdir(train_data_dir):\n",
    "        data_dir_path = os.path.join(train_data_dir, data_dir_name)\n",
    "        train_data_dir4undersampling_path_list.append(data_dir_path)\n",
    "        train_data_num_list.append(len(os.listdir(data_dir_path)))\n",
    "    \n",
    "    # 各クラスのデータのアンダーサンプリング\n",
    "    minimum_data_num = min(train_data_num_list)\n",
    "    print(f'全データを{minimum_data_num}枚にします。')\n",
    "    for index, (undersampling_path, train_data_num) in enumerate(zip(train_data_dir4undersampling_path_list, train_data_num_list)):\n",
    "        if train_data_num == minimum_data_num: continue\n",
    "        print(undersampling_path)\n",
    "        target_file_path_list = [os.path.join(undersampling_path, path) for path in os.listdir(undersampling_path)]\n",
    "        remove_data_num = len(target_file_path_list) - minimum_data_num\n",
    "        remove_data_path_list = np.random.choice(a=target_file_path_list, size=remove_data_num, replace = False)\n",
    "        for remove_data_path in remove_data_path_list:\n",
    "            os.remove(remove_data_path)\n",
    "    \n",
    "def __check_child_dir_exists(base_dir_name, child_dir_name: str) -> None:\n",
    "    if child_dir_name != 'train' or child_dir_name != 'test' or child_dir_name != 'validation': return None\n",
    "    if 'train' not in base_child_path:\n",
    "        raise FileNotFoundError(f'[{base_data_path}]内に{child_dir_name}ディレクトリがありません。')\n",
    "        \n"
   ]
  },
  {
   "cell_type": "markdown",
   "metadata": {},
   "source": [
    "## アップサンプリング"
   ]
  },
  {
   "cell_type": "code",
   "execution_count": 105,
   "metadata": {},
   "outputs": [
    {
     "data": {
      "text/plain": [
       "True"
      ]
     },
     "execution_count": 105,
     "metadata": {},
     "output_type": "execute_result"
    }
   ],
   "source": [
    "class GaussianNoize():\n",
    "    def __init__(self, mean=0, sigma=5):\n",
    "        self.mean = mean\n",
    "        self.sigma = sigma\n",
    "        \n",
    "    def apply(self, src: np.array) -> np.array:\n",
    "        '''画像にガウスノイズを付与する関数\n",
    "        Parameters\n",
    "        -----------\n",
    "        mean: ガウスノイズの平均値\n",
    "        sigma: ガウスノイズの分散\n",
    "\n",
    "        Returns\n",
    "        -----------\n",
    "        ノイズ付与後の画像\n",
    "        '''\n",
    "        src = copy.deepcopy(src)\n",
    "        if src.dtype == 'uint8':\n",
    "            src = src.astype('float64')\n",
    "        row, col, ch = src.shape\n",
    "        gauss_noize = np.random.normal(self.mean, self.sigma, (row, col, ch)).reshape(row, col, ch)\n",
    "        src += gauss_noize\n",
    "        return src.astype('uint8')\n",
    "\n",
    "class GammaTransfer():\n",
    "    def __init__(self, gamma: float=0.5):\n",
    "        self.gamma = gamma\n",
    "    def apply(self, src: np.array) -> np.array:\n",
    "        gamma_table = np.zeros((256, 1), dtype='uint8')\n",
    "        for i in range(len(gamma_table)):\n",
    "            gamma_table[i][0] = 255 * (float(i) / 255) ** (1.0 / self.gamma)\n",
    "        return cv2.LUT(src, gamma_table)\n",
    "\n",
    "class ImageFlipper():\n",
    "    def __init__(self, flip_code: int=1):\n",
    "        if flip_code == 0 or flip_code == 0:\n",
    "            raise ValueError('flip_codeは、0か1を入力')\n",
    "        self.flip_code = flip_code\n",
    "    def apply(self, src: np.array) -> np.array:\n",
    "        src = copy.deepcopy(src)\n",
    "        return cv2.flip(src, self.flip_code)\n",
    "\n",
    "class ImageBlur():\n",
    "    def __init__(self, square: Tuple[int, int]=(3, 3)):\n",
    "        self.square = square\n",
    "    def apply(self, src: np.array) -> np.array:\n",
    "        src = copy.deepcopy(src)\n",
    "        return cv2.blur(src, self.square)\n",
    "\n",
    "class Rotate():\n",
    "    def __init__(self, angle: float=10.0, scale: float=1.0):\n",
    "        self.angle = angle\n",
    "        self.scale = scale\n",
    "    def apply(self, src: np.array) -> np.array:\n",
    "        src = copy.deepcopy(src)\n",
    "        height, width = src.shape[0], src.shape[1]\n",
    "        center = (width // 2, height // 2)\n",
    "        trans = cv2.getRotationMatrix2D(center, self.angle, self.scale)\n",
    "        return cv2.warpAffine(src, trans, (width, height))\n",
    "    \n",
    "img_path = './race/upsampled_race/train/asian/10_0_2_20170110224230094.jpg.chip.jpg'\n",
    "img = cv2.imread(img_path, 1)\n",
    "cv2.imwrite('../../origin.jpg', img)\n",
    "h, w, _ = img.shape\n",
    "gamma_transfer = ImageBlur((5, 5))\n",
    "img = gamma_transfer.apply(img)\n",
    "\n",
    "cv2.imwrite('../../test.jpg', img)"
   ]
  },
  {
   "cell_type": "code",
   "execution_count": 66,
   "metadata": {},
   "outputs": [
    {
     "data": {
      "text/plain": [
       "'./race/upsampled_race/train/asian'"
      ]
     },
     "execution_count": 66,
     "metadata": {},
     "output_type": "execute_result"
    }
   ],
   "source": [
    "os.path.dirname(img_path)\n"
   ]
  },
  {
   "cell_type": "code",
   "execution_count": 108,
   "metadata": {},
   "outputs": [],
   "source": [
    "def upsample_data(target_dir: str, algorithm_dict: Dict[str, object], choice_num=5) -> None:\n",
    "    '''指定ディレクトリ内の画像ファイルを読み込み、全ての画像に指定されたアルゴリズムを実行し、保存することで画像をアップサンプリングする関数\n",
    "    Parameters\n",
    "    -----------\n",
    "    target_dir: 対象ディレクトリ\n",
    "    algorithm_list: 画像に適用するアルゴリズムリスト\n",
    "    '''\n",
    "    # 画像リストパスの取得\n",
    "    assert os.path.exists(target_dir)\n",
    "    img_path_list = [os.path.join(target_dir, path) for path in os.listdir(target_dir)]\n",
    "    for img_path in img_path_list:\n",
    "        base_img = cv2.imread(img_path)\n",
    "        choiced_algorithm = np.random.choice(list(algorithm_dict.keys()), choice_num, replace=False).tolist()\n",
    "        for algorithm_name in choiced_algorithm:\n",
    "            result_img = algorithm_dict[algorithm_name].apply(base_img)\n",
    "            save_name = __get_base_name_of_save(img_path, algorithm_name)\n",
    "            save_dir = os.path.dirname(img_path)\n",
    "            save_path = os.path.join(save_dir, save_name)\n",
    "            cv2.imwrite(save_path, result_img)\n",
    "\n",
    "def __get_base_name_of_save(img_path: str, append_name: str):\n",
    "    base_name = os.path.basename(img_path)\n",
    "    return os.path.splitext(base_name)[0] + f'_{append_name}.jpg'\n",
    "\n",
    "target_dir = './race/upsampled_race/train/indian/'\n",
    "test_dir = '../../test_img/'\n",
    "algorithm_dict = {\n",
    "    'flipped': ImageFlipper(),\n",
    "    'blurred': ImageBlur(),\n",
    "    'rotate_angle_10': Rotate(angle=10.0),\n",
    "    'rotate_angle_minus_10': Rotate(angle=-10.0)\n",
    "}\n",
    "upsample_data(target_dir, algorithm_dict, 1)"
   ]
  },
  {
   "cell_type": "code",
   "execution_count": 79,
   "metadata": {},
   "outputs": [
    {
     "data": {
      "text/plain": [
       "['rotate_angle_10', 'blurred', 'gaussian_noize']"
      ]
     },
     "execution_count": 79,
     "metadata": {},
     "output_type": "execute_result"
    }
   ],
   "source": [
    "np.random.choice(list(algorithm_dict.keys()), 3, replace = False).tolist()"
   ]
  },
  {
   "cell_type": "code",
   "execution_count": null,
   "metadata": {},
   "outputs": [],
   "source": []
  }
 ],
 "metadata": {
  "kernelspec": {
   "display_name": "Python 3",
   "language": "python",
   "name": "python3"
  },
  "language_info": {
   "codemirror_mode": {
    "name": "ipython",
    "version": 3
   },
   "file_extension": ".py",
   "mimetype": "text/x-python",
   "name": "python",
   "nbconvert_exporter": "python",
   "pygments_lexer": "ipython3",
   "version": "3.6.9"
  }
 },
 "nbformat": 4,
 "nbformat_minor": 2
}
